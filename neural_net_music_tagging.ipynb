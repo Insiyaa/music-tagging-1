{
 "cells": [
  {
   "cell_type": "code",
   "execution_count": 2,
   "metadata": {},
   "outputs": [],
   "source": [
    "import numpy as np\n",
    "from sklearn.model_selection import train_test_split\n",
    "from sklearn.metrics import confusion_matrix, classification_report"
   ]
  },
  {
   "cell_type": "markdown",
   "metadata": {},
   "source": [
    "# Reading dataset"
   ]
  },
  {
   "cell_type": "code",
   "execution_count": 79,
   "metadata": {},
   "outputs": [],
   "source": [
    "dataset=np.genfromtxt(\"C:\\\\Users\\Dharmik\\Desktop\\data.csv\",delimiter=\",\")\n",
    "\n",
    "x=dataset[1:,1:-1] #shape(1000,28)\n",
    "\n",
    "y_raw=dataset[1:,-1]\n",
    "\n",
    "y=y_raw.reshape((1000,1)) #shape(1000,1)\n",
    "\n",
    "y=y.astype('int')\n",
    "\n",
    "x_train,x_test,y_train,y_test=train_test_split(x, y, test_size=0.25, random_state=112)\n",
    "\n",
    "len_y=len(y_train)\n",
    "\n"
   ]
  },
  {
   "cell_type": "code",
   "execution_count": 4,
   "metadata": {},
   "outputs": [
    {
     "name": "stdout",
     "output_type": "stream",
     "text": [
      "(750, 28)\n",
      "(750, 1)\n"
     ]
    }
   ],
   "source": [
    "print(x_train.shape)\n",
    "print(y_train.shape)"
   ]
  },
  {
   "cell_type": "code",
   "execution_count": 156,
   "metadata": {},
   "outputs": [],
   "source": [
    "epochs=10000\n",
    "learning_rate=0.\n",
    "hiddenlayer_num=20\n",
    "n=x.shape[0]\n"
   ]
  },
  {
   "cell_type": "markdown",
   "metadata": {},
   "source": [
    "# Sigmoid and its derivative\n"
   ]
  },
  {
   "cell_type": "code",
   "execution_count": 157,
   "metadata": {},
   "outputs": [],
   "source": [
    "def sigmoid(z):\n",
    "    return (1/(1+np.exp(-z)))\n",
    "\n",
    "def sigmoidDerivative(sigmoid):\n",
    "    return sigmoid * (1 - sigmoid)\n"
   ]
  },
  {
   "cell_type": "markdown",
   "metadata": {},
   "source": [
    "# Initializing weights "
   ]
  },
  {
   "cell_type": "code",
   "execution_count": 158,
   "metadata": {},
   "outputs": [
    {
     "name": "stdout",
     "output_type": "stream",
     "text": [
      "(20, 28)\n",
      "(10, 20)\n"
     ]
    }
   ],
   "source": [
    "\n",
    "W1=np.random.randn(hiddenlayer_num,x_train.shape[1])* (np.sqrt(2/(28*20)))#shape(20,28)\n",
    "#b1=np.random.rand(x_train.shape[0],1)\n",
    "W2=np.random.randn(10,hiddenlayer_num)*(np.sqrt(2/(20*10))) #shape(10,20) 10 is the number of classes\n",
    "#b2=np.random.rand(x_train.shape[0],1)\n",
    "print(W1.shape) \n",
    "#print(b1.shape)\n",
    "print(W2.shape)\n",
    "#print(b2.shape)"
   ]
  },
  {
   "cell_type": "markdown",
   "metadata": {},
   "source": [
    "# Feedforward"
   ]
  },
  {
   "cell_type": "code",
   "execution_count": 159,
   "metadata": {},
   "outputs": [
    {
     "name": "stdout",
     "output_type": "stream",
     "text": [
      "(20, 750)\n",
      "(750, 10)\n"
     ]
    },
    {
     "name": "stderr",
     "output_type": "stream",
     "text": [
      "c:\\users\\dharmik\\appdata\\local\\programs\\python\\python37-32\\lib\\site-packages\\ipykernel_launcher.py:2: RuntimeWarning: overflow encountered in exp\n",
      "  \n"
     ]
    }
   ],
   "source": [
    "def feedforward(x_train,W1,W2):\n",
    "    A1 = sigmoid(np.dot(W1,x_train.T))     #shape(20,1000)\n",
    "    A2 = sigmoid(np.dot(W2,A1)).T          #shape(1000,10)\n",
    "    print(A1.shape)\n",
    "    print(A2.shape)\n",
    "    return A2,A1\n",
    "\n",
    "A2,A1 = feedforward(x_train,W1,W2) #defining variables for the output of feedforward network which will be used in backpropagation\n"
   ]
  },
  {
   "cell_type": "markdown",
   "metadata": {},
   "source": [
    "# One hot Encoder"
   ]
  },
  {
   "cell_type": "code",
   "execution_count": 160,
   "metadata": {},
   "outputs": [
    {
     "name": "stdout",
     "output_type": "stream",
     "text": [
      "[[1. 0. 0. ... 0. 0. 0.]\n",
      " [1. 0. 0. ... 0. 0. 0.]\n",
      " [1. 0. 0. ... 0. 0. 0.]\n",
      " ...\n",
      " [0. 0. 0. ... 1. 0. 0.]\n",
      " [0. 0. 0. ... 1. 0. 0.]\n",
      " [0. 0. 0. ... 1. 0. 0.]]\n",
      " \n",
      "(750, 10)\n"
     ]
    }
   ],
   "source": [
    "def onehotencoder(onehot_raw):\n",
    "    onehot_raw=np.zeros((x_train.shape[0],10))# to create a matrix of zeros which will provide a frameworkto create one hot encoded matrix of y\n",
    "    for i in range(len_y):\n",
    "        onehot_raw[i][int(y[i])]=1  \n",
    "    return onehot_raw   #creates a onehotencoded matrix of (1000,10) shape\n",
    "\n",
    "print(onehotencoder(y_train), onehotencoder(y_train).shape,sep='\\n \\n')\n",
    "#at first the onehotencoded matrix was not coming out to be proper. that is because the y matrix had dtype of float and not int. so when I type converted it into int dtpye the proper one hot encoded matrix was obtained.\n"
   ]
  },
  {
   "cell_type": "markdown",
   "metadata": {},
   "source": [
    "# Backpropagation"
   ]
  },
  {
   "cell_type": "code",
   "execution_count": 161,
   "metadata": {
    "scrolled": true
   },
   "outputs": [
    {
     "name": "stderr",
     "output_type": "stream",
     "text": [
      "c:\\users\\dharmik\\appdata\\local\\programs\\python\\python37-32\\lib\\site-packages\\ipykernel_launcher.py:2: RuntimeWarning: overflow encountered in exp\n",
      "  \n"
     ]
    },
    {
     "name": "stdout",
     "output_type": "stream",
     "text": [
      "(10, 20)\n",
      "(20, 28)\n"
     ]
    }
   ],
   "source": [
    "Y=onehotencoder(y_train) #onehotencoded y matrix\n",
    "\n",
    "def backpropagation(W2,W1,A2,A1,x,Y):\n",
    "    for iters in range(epochs):\n",
    "        Z1 = np.dot(x_train, W1.T)      #shape(1000,20)\n",
    "        A1 = sigmoid(Z1)        #shape(1000,20)\n",
    "        Z2 = np.dot(A1, W2.T)     #shape(1000,10)\n",
    "        A2 = sigmoid(Z2)          #shape(1000,10)\n",
    "        cost = np.sum((Y * np.log(A2)) + ((1-Y) * np.log(1-A2))) * (-1/n)\n",
    "        \n",
    "        #calculating derivatives of Z2,W2,A1,W1 wrt cost function\n",
    "        \n",
    "        dZ2=(-1/n)*(Y-A2)                #shape(1000,10)\n",
    "        dW2=np.dot(dZ2.T, A1)            #shape(10,20)\n",
    "        dA1=np.dot(dZ2,W2)               #shape(1000,20)\n",
    "        dZ1=   dA1*sigmoidDerivative(A1) #shape(1000, 20)    ####################\n",
    "        dW1=np.dot(x_train.T,dZ1).T      #shape(28,10)\n",
    "        \n",
    "        #updating weights \n",
    "        \n",
    "        W2=W2-learning_rate*dW2\n",
    "        W1=W1-learning_rate*dW1\n",
    "        \n",
    "    \n",
    "    return W2,W1\n",
    "W2,W1=backpropagation(W2,W1,A2,A1,x,Y)\n",
    "\n",
    "print(W2.shape)\n",
    "print(W1.shape)"
   ]
  },
  {
   "cell_type": "markdown",
   "metadata": {},
   "source": [
    "# Test Function"
   ]
  },
  {
   "cell_type": "code",
   "execution_count": 162,
   "metadata": {},
   "outputs": [
    {
     "name": "stdout",
     "output_type": "stream",
     "text": [
      "[[0.47365802 0.51695474 0.60358931 ... 0.52639452 0.40067227 0.48918781]\n",
      " [0.46832505 0.56800869 0.61639258 ... 0.50341056 0.43796302 0.53441255]\n",
      " [0.4736586  0.51695465 0.60358983 ... 0.52639409 0.40067199 0.48918911]\n",
      " ...\n",
      " [0.46585518 0.57403314 0.61474397 ... 0.50160123 0.44096693 0.5366894 ]\n",
      " [0.46837735 0.56788087 0.61642743 ... 0.50344889 0.43789943 0.53436428]\n",
      " [0.46789854 0.56905013 0.61610811 ... 0.50309826 0.43848121 0.53480562]]\n",
      "[5 2 5 5 2 2 2 2 5 5 2 5 5 2 2 5 2 2 2 2 2 5 5 2 2 2 2 2 2 2 2 2 2 2 2 2 2\n",
      " 2 2 5 2 2 2 2 2 2 5 5 2 5 2 2 5 5 5 2 2 2 5 2 2 2 2 2 2 5 2 2 2 2 2 2 2 5\n",
      " 2 2 2 5 2 2 5 2 2 5 5 5 5 2 5 2 2 5 2 2 2 5 2 2 2 2 5 2 5 2 2 5 2 2 2 2 2\n",
      " 2 2 2 5 5 2 2 5 2 2 2 2 2 5 2 2 5 5 2 5 2 2 2 5 2 5 2 2 5 5 5 2 2 2 2 2 2\n",
      " 2 2 2 2 2 5 2 2 2 2 2 5 5 2 2 2 2 2 2 5 5 2 2 2 2 2 2 5 2 2 2 5 2 5 5 5 5\n",
      " 5 2 5 5 2 2 5 2 5 2 2 2 5 5 5 2 5 2 5 5 2 2 2 2 2 2 5 2 5 2 2 2 2 2 2 2 2\n",
      " 5 5 2 5 2 2 2 5 5 2 2 2 2 2 2 2 5 5 5 5 5 5 2 2 2 2 2 2]\n",
      "0.104\n"
     ]
    },
    {
     "name": "stderr",
     "output_type": "stream",
     "text": [
      "c:\\users\\dharmik\\appdata\\local\\programs\\python\\python37-32\\lib\\site-packages\\ipykernel_launcher.py:2: RuntimeWarning: overflow encountered in exp\n",
      "  \n"
     ]
    }
   ],
   "source": [
    "def test(x,y,W1,W2):\n",
    "    Z1 = np.dot(x_test,W1.T) \n",
    "    A1 = sigmoid(Z1) \n",
    "    Z2 = np.dot(A1,W2.T)\n",
    "    A2 = sigmoid(Z2)\n",
    "    acc=0\n",
    "    #print(A2.shape, A2[0].astype('float64'))\n",
    "    predicted=np.argmax(A2,axis=1)\n",
    "    print(A2)\n",
    "    print(predicted)\n",
    "    #label=np.argmax(y_test,axis=0)\n",
    "    #print(label)\n",
    "    #print(label.shape)\n",
    "    for i in range(len(y_test)):\n",
    "        if(predicted[i]==y[i]):\n",
    "            acc=acc+1\n",
    "    accuracy= acc/len(y_test)\n",
    "    print(accuracy)\n",
    "    return predicted\n",
    "\n",
    "p = test(x_test,y_test,W1,W2)\n",
    "\n",
    "\n",
    "    "
   ]
  },
  {
   "cell_type": "code",
   "execution_count": 163,
   "metadata": {},
   "outputs": [
    {
     "data": {
      "text/plain": [
       "array([5, 2, 5, 5, 2, 2, 2, 2, 5, 5, 2, 5, 5, 2, 2, 5, 2, 2, 2, 2, 2, 5,\n",
       "       5, 2, 2, 2, 2, 2, 2, 2, 2, 2, 2, 2, 2, 2, 2, 2, 2, 5, 2, 2, 2, 2,\n",
       "       2, 2, 5, 5, 2, 5, 2, 2, 5, 5, 5, 2, 2, 2, 5, 2, 2, 2, 2, 2, 2, 5,\n",
       "       2, 2, 2, 2, 2, 2, 2, 5, 2, 2, 2, 5, 2, 2, 5, 2, 2, 5, 5, 5, 5, 2,\n",
       "       5, 2, 2, 5, 2, 2, 2, 5, 2, 2, 2, 2, 5, 2, 5, 2, 2, 5, 2, 2, 2, 2,\n",
       "       2, 2, 2, 2, 5, 5, 2, 2, 5, 2, 2, 2, 2, 2, 5, 2, 2, 5, 5, 2, 5, 2,\n",
       "       2, 2, 5, 2, 5, 2, 2, 5, 5, 5, 2, 2, 2, 2, 2, 2, 2, 2, 2, 2, 2, 5,\n",
       "       2, 2, 2, 2, 2, 5, 5, 2, 2, 2, 2, 2, 2, 5, 5, 2, 2, 2, 2, 2, 2, 5,\n",
       "       2, 2, 2, 5, 2, 5, 5, 5, 5, 5, 2, 5, 5, 2, 2, 5, 2, 5, 2, 2, 2, 5,\n",
       "       5, 5, 2, 5, 2, 5, 5, 2, 2, 2, 2, 2, 2, 5, 2, 5, 2, 2, 2, 2, 2, 2,\n",
       "       2, 2, 5, 5, 2, 5, 2, 2, 2, 5, 5, 2, 2, 2, 2, 2, 2, 2, 5, 5, 5, 5,\n",
       "       5, 5, 2, 2, 2, 2, 2, 2], dtype=int32)"
      ]
     },
     "execution_count": 163,
     "metadata": {},
     "output_type": "execute_result"
    }
   ],
   "source": [
    "p"
   ]
  },
  {
   "cell_type": "code",
   "execution_count": 164,
   "metadata": {},
   "outputs": [
    {
     "name": "stdout",
     "output_type": "stream",
     "text": [
      "              precision    recall  f1-score   support\n",
      "\n",
      "           0       0.00      0.00      0.00        25\n",
      "           1       0.00      0.00      0.00        27\n",
      "           2       0.08      0.57      0.13        23\n",
      "           3       0.00      0.00      0.00        25\n",
      "           4       0.00      0.00      0.00        26\n",
      "           5       0.16      0.48      0.25        27\n",
      "           6       0.00      0.00      0.00        28\n",
      "           7       0.00      0.00      0.00        23\n",
      "           8       0.00      0.00      0.00        20\n",
      "           9       0.00      0.00      0.00        26\n",
      "\n",
      "   micro avg       0.10      0.10      0.10       250\n",
      "   macro avg       0.02      0.10      0.04       250\n",
      "weighted avg       0.02      0.10      0.04       250\n",
      "\n"
     ]
    }
   ],
   "source": [
    "print(classification_report(y_test, p))"
   ]
  }
 ],
 "metadata": {
  "kernelspec": {
   "display_name": "Python 3",
   "language": "python",
   "name": "python3"
  },
  "language_info": {
   "codemirror_mode": {
    "name": "ipython",
    "version": 3
   },
   "file_extension": ".py",
   "mimetype": "text/x-python",
   "name": "python",
   "nbconvert_exporter": "python",
   "pygments_lexer": "ipython3",
   "version": "3.7.0"
  }
 },
 "nbformat": 4,
 "nbformat_minor": 2
}
